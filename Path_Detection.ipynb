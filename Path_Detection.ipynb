{
 "cells": [
  {
   "cell_type": "code",
   "execution_count": 1,
   "id": "eaba6192",
   "metadata": {},
   "outputs": [
    {
     "name": "stdout",
     "output_type": "stream",
     "text": [
      "Requirement already satisfied: osmnx in c:\\users\\dev mehta\\anaconda3\\lib\\site-packages (1.6.0)\n",
      "Requirement already satisfied: geopandas>=0.12 in c:\\users\\dev mehta\\anaconda3\\lib\\site-packages (from osmnx) (0.14.0)\n",
      "Requirement already satisfied: networkx>=2.5 in c:\\users\\dev mehta\\anaconda3\\lib\\site-packages (from osmnx) (2.8.4)\n",
      "Requirement already satisfied: pandas>=1.1 in c:\\users\\dev mehta\\anaconda3\\lib\\site-packages (from osmnx) (1.5.3)\n",
      "Requirement already satisfied: requests>=2.27 in c:\\users\\dev mehta\\anaconda3\\lib\\site-packages (from osmnx) (2.28.1)\n",
      "Requirement already satisfied: shapely>=2.0 in c:\\users\\dev mehta\\anaconda3\\lib\\site-packages (from osmnx) (2.0.1)\n",
      "Requirement already satisfied: numpy>=1.20 in c:\\users\\dev mehta\\anaconda3\\lib\\site-packages (from osmnx) (1.23.5)\n",
      "Requirement already satisfied: fiona>=1.8.21 in c:\\users\\dev mehta\\anaconda3\\lib\\site-packages (from geopandas>=0.12->osmnx) (1.9.4.post1)\n",
      "Requirement already satisfied: packaging in c:\\users\\dev mehta\\anaconda3\\lib\\site-packages (from geopandas>=0.12->osmnx) (22.0)\n",
      "Requirement already satisfied: pyproj>=3.3.0 in c:\\users\\dev mehta\\anaconda3\\lib\\site-packages (from geopandas>=0.12->osmnx) (3.6.1)\n",
      "Requirement already satisfied: python-dateutil>=2.8.1 in c:\\users\\dev mehta\\anaconda3\\lib\\site-packages (from pandas>=1.1->osmnx) (2.8.2)\n",
      "Requirement already satisfied: pytz>=2020.1 in c:\\users\\dev mehta\\anaconda3\\lib\\site-packages (from pandas>=1.1->osmnx) (2022.7)\n",
      "Requirement already satisfied: certifi>=2017.4.17 in c:\\users\\dev mehta\\anaconda3\\lib\\site-packages (from requests>=2.27->osmnx) (2023.7.22)\n",
      "Requirement already satisfied: charset-normalizer<3,>=2 in c:\\users\\dev mehta\\anaconda3\\lib\\site-packages (from requests>=2.27->osmnx) (2.0.4)\n",
      "Requirement already satisfied: urllib3<1.27,>=1.21.1 in c:\\users\\dev mehta\\anaconda3\\lib\\site-packages (from requests>=2.27->osmnx) (1.26.14)\n",
      "Requirement already satisfied: idna<4,>=2.5 in c:\\users\\dev mehta\\anaconda3\\lib\\site-packages (from requests>=2.27->osmnx) (3.4)\n",
      "Requirement already satisfied: click~=8.0 in c:\\users\\dev mehta\\appdata\\roaming\\python\\python310\\site-packages (from fiona>=1.8.21->geopandas>=0.12->osmnx) (8.0.3)\n",
      "Requirement already satisfied: cligj>=0.5 in c:\\users\\dev mehta\\anaconda3\\lib\\site-packages (from fiona>=1.8.21->geopandas>=0.12->osmnx) (0.7.2)\n",
      "Requirement already satisfied: six in c:\\users\\dev mehta\\anaconda3\\lib\\site-packages (from fiona>=1.8.21->geopandas>=0.12->osmnx) (1.16.0)\n",
      "Requirement already satisfied: attrs>=19.2.0 in c:\\users\\dev mehta\\anaconda3\\lib\\site-packages (from fiona>=1.8.21->geopandas>=0.12->osmnx) (22.1.0)\n",
      "Requirement already satisfied: click-plugins>=1.0 in c:\\users\\dev mehta\\anaconda3\\lib\\site-packages (from fiona>=1.8.21->geopandas>=0.12->osmnx) (1.1.1)\n",
      "Requirement already satisfied: colorama in c:\\users\\dev mehta\\appdata\\roaming\\python\\python310\\site-packages (from click~=8.0->fiona>=1.8.21->geopandas>=0.12->osmnx) (0.4.4)\n",
      "Requirement already satisfied: networkx in c:\\users\\dev mehta\\anaconda3\\lib\\site-packages (2.8.4)\n",
      "Requirement already satisfied: folium in c:\\users\\dev mehta\\anaconda3\\lib\\site-packages (0.14.0)\n",
      "Requirement already satisfied: numpy in c:\\users\\dev mehta\\anaconda3\\lib\\site-packages (from folium) (1.23.5)\n",
      "Requirement already satisfied: jinja2>=2.9 in c:\\users\\dev mehta\\anaconda3\\lib\\site-packages (from folium) (3.1.2)\n",
      "Requirement already satisfied: requests in c:\\users\\dev mehta\\anaconda3\\lib\\site-packages (from folium) (2.28.1)\n",
      "Requirement already satisfied: branca>=0.6.0 in c:\\users\\dev mehta\\anaconda3\\lib\\site-packages (from folium) (0.6.0)\n",
      "Requirement already satisfied: MarkupSafe>=2.0 in c:\\users\\dev mehta\\anaconda3\\lib\\site-packages (from jinja2>=2.9->folium) (2.1.1)\n",
      "Requirement already satisfied: urllib3<1.27,>=1.21.1 in c:\\users\\dev mehta\\anaconda3\\lib\\site-packages (from requests->folium) (1.26.14)\n",
      "Requirement already satisfied: certifi>=2017.4.17 in c:\\users\\dev mehta\\anaconda3\\lib\\site-packages (from requests->folium) (2023.7.22)\n",
      "Requirement already satisfied: charset-normalizer<3,>=2 in c:\\users\\dev mehta\\anaconda3\\lib\\site-packages (from requests->folium) (2.0.4)\n",
      "Requirement already satisfied: idna<4,>=2.5 in c:\\users\\dev mehta\\anaconda3\\lib\\site-packages (from requests->folium) (3.4)\n"
     ]
    }
   ],
   "source": [
    "!pip install osmnx\n",
    "!pip install networkx\n",
    "!pip install folium"
   ]
  },
  {
   "cell_type": "code",
   "execution_count": 2,
   "id": "957077e2",
   "metadata": {},
   "outputs": [],
   "source": [
    "import osmnx as ox\n",
    "import networkx as nx\n",
    "ox.settings.log_console=True\n",
    "ox.settings.use_cache=True\n",
    "# define the start and end locations in latlng\n",
    "start_latlng = (-19.750867,32.946035)\n",
    "end_latlng = (-19.737109,32.944446)\n",
    "# location where you want to find your route\n",
    "place     = 'Chimanimani, Zimbabwe'\n",
    "# find shortest route based on the mode of travel\n",
    "mode      = 'walk'        # 'drive', 'bike', 'walk'\n",
    "# find shortest path based on distance or time\n",
    "optimizer = 'time'        # 'length','time'\n",
    "# create graph from OSM within the boundaries of some \n",
    "# geocodable place(s)\n",
    "graph = ox.graph_from_place(place, network_type = mode)\n",
    "# find the nearest node to the start location\n",
    "orig_node = ox.distance.nearest_nodes(graph, start_latlng[1],start_latlng[0])\n",
    "# find the nearest node to the end location\n",
    "dest_node = ox.distance.nearest_nodes(graph, end_latlng[1],end_latlng[0])\n",
    "#  find the shortest path\n",
    "shortest_route = nx.shortest_path(graph,orig_node,dest_node,weight=optimizer)"
   ]
  },
  {
   "cell_type": "code",
   "execution_count": 3,
   "id": "07bfc60a",
   "metadata": {},
   "outputs": [
    {
     "data": {
      "text/plain": [
       "[6370847375, 6349105394, 2345714352]"
      ]
     },
     "execution_count": 3,
     "metadata": {},
     "output_type": "execute_result"
    }
   ],
   "source": [
    "shortest_route"
   ]
  },
  {
   "cell_type": "code",
   "execution_count": 4,
   "id": "419be40a",
   "metadata": {},
   "outputs": [
    {
     "name": "stdout",
     "output_type": "stream",
     "text": [
      "-19.780032 32.944248 -19.733755 32.993128\n"
     ]
    }
   ],
   "source": [
    "import json\n",
    "path = 'C:\\\\Users\\\\Dev Mehta\\\\OneDrive\\\\Desktop\\\\Dev\\\\FloodDetection\\\\Label\\\\s2_0212_2019_03_25.geojson'\n",
    "with open(path, 'r') as geojson_file:\n",
    "    geojson_data = json.load(geojson_file)\n",
    "\n",
    "cordinates=geojson_data['geometry']['coordinates']\n",
    "min_lat,min_long,max_lat,max_long=91,181,-91,-181\n",
    "for i in cordinates[0]:\n",
    "    min_lat=min(min_lat,i[1])\n",
    "    min_long=min(min_long,i[0])\n",
    "    max_lat=max(max_lat,i[1])\n",
    "    max_long=max(max_long,i[0])\n",
    "    \n",
    "print(min_lat,min_long,max_lat,max_long)"
   ]
  },
  {
   "cell_type": "code",
   "execution_count": 5,
   "id": "87954632",
   "metadata": {},
   "outputs": [
    {
     "name": "stdout",
     "output_type": "stream",
     "text": [
      "[(-19.750697, 32.9459274), (-19.7372812, 32.9444651), (-19.7370563, 32.9444499)]\n"
     ]
    }
   ],
   "source": [
    "nodes, edges = ox.graph_to_gdfs(graph)\n",
    "\n",
    "# Extract coordinates of nodes in the shortest route\n",
    "route_nodes = nodes.loc[shortest_route]\n",
    "\n",
    "# Extract latitude and longitude from the route nodes\n",
    "route_coordinates = list(zip(route_nodes['y'], route_nodes['x']))\n",
    "\n",
    "print(route_coordinates)"
   ]
  },
  {
   "cell_type": "code",
   "execution_count": 6,
   "id": "0950038d",
   "metadata": {},
   "outputs": [
    {
     "name": "stderr",
     "output_type": "stream",
     "text": [
      "C:\\Users\\Dev Mehta\\AppData\\Local\\Temp\\ipykernel_14240\\1316014204.py:1: UserWarning: The `folium` module has been deprecated and will be removed in a future release. You can generate and explore interactive web maps of graph nodes, edges, and/or routes automatically using GeoPandas.GeoDataFrame.explore instead, for example like: `ox.graph_to_gdfs(G, nodes=False).explore()`. See the OSMnx examples gallery for complete details and demonstrations.\n",
      "  shortest_route_map = ox.plot_route_folium(graph, shortest_route)\n"
     ]
    },
    {
     "data": {
      "text/html": [
       "<div style=\"width:100%;\"><div style=\"position:relative;width:100%;height:0;padding-bottom:60%;\"><span style=\"color:#565656\">Make this Notebook Trusted to load map: File -> Trust Notebook</span><iframe srcdoc=\"&lt;!DOCTYPE html&gt;\n",
       "&lt;html&gt;\n",
       "&lt;head&gt;\n",
       "    \n",
       "    &lt;meta http-equiv=&quot;content-type&quot; content=&quot;text/html; charset=UTF-8&quot; /&gt;\n",
       "    \n",
       "        &lt;script&gt;\n",
       "            L_NO_TOUCH = false;\n",
       "            L_DISABLE_3D = false;\n",
       "        &lt;/script&gt;\n",
       "    \n",
       "    &lt;style&gt;html, body {width: 100%;height: 100%;margin: 0;padding: 0;}&lt;/style&gt;\n",
       "    &lt;style&gt;#map {position:absolute;top:0;bottom:0;right:0;left:0;}&lt;/style&gt;\n",
       "    &lt;script src=&quot;https://cdn.jsdelivr.net/npm/leaflet@1.9.3/dist/leaflet.js&quot;&gt;&lt;/script&gt;\n",
       "    &lt;script src=&quot;https://code.jquery.com/jquery-1.12.4.min.js&quot;&gt;&lt;/script&gt;\n",
       "    &lt;script src=&quot;https://cdn.jsdelivr.net/npm/bootstrap@5.2.2/dist/js/bootstrap.bundle.min.js&quot;&gt;&lt;/script&gt;\n",
       "    &lt;script src=&quot;https://cdnjs.cloudflare.com/ajax/libs/Leaflet.awesome-markers/2.0.2/leaflet.awesome-markers.js&quot;&gt;&lt;/script&gt;\n",
       "    &lt;link rel=&quot;stylesheet&quot; href=&quot;https://cdn.jsdelivr.net/npm/leaflet@1.9.3/dist/leaflet.css&quot;/&gt;\n",
       "    &lt;link rel=&quot;stylesheet&quot; href=&quot;https://cdn.jsdelivr.net/npm/bootstrap@5.2.2/dist/css/bootstrap.min.css&quot;/&gt;\n",
       "    &lt;link rel=&quot;stylesheet&quot; href=&quot;https://netdna.bootstrapcdn.com/bootstrap/3.0.0/css/bootstrap.min.css&quot;/&gt;\n",
       "    &lt;link rel=&quot;stylesheet&quot; href=&quot;https://cdn.jsdelivr.net/npm/@fortawesome/fontawesome-free@6.2.0/css/all.min.css&quot;/&gt;\n",
       "    &lt;link rel=&quot;stylesheet&quot; href=&quot;https://cdnjs.cloudflare.com/ajax/libs/Leaflet.awesome-markers/2.0.2/leaflet.awesome-markers.css&quot;/&gt;\n",
       "    &lt;link rel=&quot;stylesheet&quot; href=&quot;https://cdn.jsdelivr.net/gh/python-visualization/folium/folium/templates/leaflet.awesome.rotate.min.css&quot;/&gt;\n",
       "    \n",
       "            &lt;meta name=&quot;viewport&quot; content=&quot;width=device-width,\n",
       "                initial-scale=1.0, maximum-scale=1.0, user-scalable=no&quot; /&gt;\n",
       "            &lt;style&gt;\n",
       "                #map_a6df914b5753abd80c2937f0ea275f86 {\n",
       "                    position: relative;\n",
       "                    width: 100.0%;\n",
       "                    height: 100.0%;\n",
       "                    left: 0.0%;\n",
       "                    top: 0.0%;\n",
       "                }\n",
       "                .leaflet-container { font-size: 1rem; }\n",
       "            &lt;/style&gt;\n",
       "        \n",
       "&lt;/head&gt;\n",
       "&lt;body&gt;\n",
       "    \n",
       "    \n",
       "            &lt;div class=&quot;folium-map&quot; id=&quot;map_a6df914b5753abd80c2937f0ea275f86&quot; &gt;&lt;/div&gt;\n",
       "        \n",
       "&lt;/body&gt;\n",
       "&lt;script&gt;\n",
       "    \n",
       "    \n",
       "            var map_a6df914b5753abd80c2937f0ea275f86 = L.map(\n",
       "                &quot;map_a6df914b5753abd80c2937f0ea275f86&quot;,\n",
       "                {\n",
       "                    center: [-19.743899060723013, 32.94503085720633],\n",
       "                    crs: L.CRS.EPSG3857,\n",
       "                    zoom: 1,\n",
       "                    zoomControl: true,\n",
       "                    preferCanvas: false,\n",
       "                }\n",
       "            );\n",
       "\n",
       "            \n",
       "\n",
       "        \n",
       "    \n",
       "            var tile_layer_8ce4fb60137fb20da96396f5d6abc3a1 = L.tileLayer(\n",
       "                &quot;https://cartodb-basemaps-{s}.global.ssl.fastly.net/light_all/{z}/{x}/{y}.png&quot;,\n",
       "                {&quot;attribution&quot;: &quot;\\u0026copy; \\u003ca target=\\&quot;_blank\\&quot; href=\\&quot;http://www.openstreetmap.org/copyright\\&quot;\\u003eOpenStreetMap\\u003c/a\\u003e contributors \\u0026copy; \\u003ca target=\\&quot;_blank\\&quot; href=\\&quot;http://cartodb.com/attributions\\&quot;\\u003eCartoDB\\u003c/a\\u003e, CartoDB \\u003ca target=\\&quot;_blank\\&quot; href =\\&quot;http://cartodb.com/attributions\\&quot;\\u003eattributions\\u003c/a\\u003e&quot;, &quot;detectRetina&quot;: false, &quot;maxNativeZoom&quot;: 18, &quot;maxZoom&quot;: 18, &quot;minZoom&quot;: 0, &quot;noWrap&quot;: false, &quot;opacity&quot;: 1, &quot;subdomains&quot;: &quot;abc&quot;, &quot;tms&quot;: false}\n",
       "            ).addTo(map_a6df914b5753abd80c2937f0ea275f86);\n",
       "        \n",
       "    \n",
       "            var poly_line_186469c1e0ffdcfcab257392eefe6399 = L.polyline(\n",
       "                [[-19.750697, 32.9459274], [-19.7496014, 32.9456618], [-19.7483266, 32.9453748], [-19.7481325, 32.9453568], [-19.7479908, 32.9453588], [-19.7467387, 32.9453614], [-19.7465089, 32.9453507], [-19.7461533, 32.9453299], [-19.7443581, 32.9450262], [-19.7441921, 32.9450183], [-19.7440324, 32.945002], [-19.7431261, 32.9449859], [-19.742748, 32.9449344], [-19.7424647, 32.9448813], [-19.7417527, 32.9446882], [-19.7415331, 32.9446399], [-19.7413416, 32.9446165], [-19.739741, 32.9446004], [-19.7372812, 32.9444651]],\n",
       "                {&quot;bubblingMouseEvents&quot;: true, &quot;color&quot;: &quot;#3388ff&quot;, &quot;dashArray&quot;: null, &quot;dashOffset&quot;: null, &quot;fill&quot;: false, &quot;fillColor&quot;: &quot;#3388ff&quot;, &quot;fillOpacity&quot;: 0.2, &quot;fillRule&quot;: &quot;evenodd&quot;, &quot;lineCap&quot;: &quot;round&quot;, &quot;lineJoin&quot;: &quot;round&quot;, &quot;noClip&quot;: false, &quot;opacity&quot;: 1.0, &quot;smoothFactor&quot;: 1.0, &quot;stroke&quot;: true, &quot;weight&quot;: 3}\n",
       "            ).addTo(map_a6df914b5753abd80c2937f0ea275f86);\n",
       "        \n",
       "    \n",
       "            var poly_line_354013cbb40b022dc48b414165f3baca = L.polyline(\n",
       "                [[-19.7372812, 32.9444651], [-19.7370563, 32.9444499]],\n",
       "                {&quot;bubblingMouseEvents&quot;: true, &quot;color&quot;: &quot;#3388ff&quot;, &quot;dashArray&quot;: null, &quot;dashOffset&quot;: null, &quot;fill&quot;: false, &quot;fillColor&quot;: &quot;#3388ff&quot;, &quot;fillOpacity&quot;: 0.2, &quot;fillRule&quot;: &quot;evenodd&quot;, &quot;lineCap&quot;: &quot;round&quot;, &quot;lineJoin&quot;: &quot;round&quot;, &quot;noClip&quot;: false, &quot;opacity&quot;: 1.0, &quot;smoothFactor&quot;: 1.0, &quot;stroke&quot;: true, &quot;weight&quot;: 3}\n",
       "            ).addTo(map_a6df914b5753abd80c2937f0ea275f86);\n",
       "        \n",
       "    \n",
       "            map_a6df914b5753abd80c2937f0ea275f86.fitBounds(\n",
       "                [[-19.750697, 32.9444499], [-19.7370563, 32.9459274]],\n",
       "                {}\n",
       "            );\n",
       "        \n",
       "&lt;/script&gt;\n",
       "&lt;/html&gt;\" style=\"position:absolute;width:100%;height:100%;left:0;top:0;border:none !important;\" allowfullscreen webkitallowfullscreen mozallowfullscreen></iframe></div></div>"
      ],
      "text/plain": [
       "<folium.folium.Map at 0x1b6dea63d30>"
      ]
     },
     "execution_count": 6,
     "metadata": {},
     "output_type": "execute_result"
    }
   ],
   "source": [
    "shortest_route_map = ox.plot_route_folium(graph, shortest_route)\n",
    "shortest_route_map"
   ]
  },
  {
   "cell_type": "code",
   "execution_count": 7,
   "id": "9422b0ed",
   "metadata": {},
   "outputs": [
    {
     "name": "stderr",
     "output_type": "stream",
     "text": [
      "C:\\Users\\Dev Mehta\\AppData\\Local\\Temp\\ipykernel_14240\\3752565177.py:1: UserWarning: The `folium` module has been deprecated and will be removed in a future release. You can generate and explore interactive web maps of graph nodes, edges, and/or routes automatically using GeoPandas.GeoDataFrame.explore instead, for example like: `ox.graph_to_gdfs(G, nodes=False).explore()`. See the OSMnx examples gallery for complete details and demonstrations.\n",
      "  shortest_route_map = ox.plot_route_folium(graph, shortest_route, tiles='openstreetmap')\n"
     ]
    },
    {
     "data": {
      "text/html": [
       "<div style=\"width:100%;\"><div style=\"position:relative;width:100%;height:0;padding-bottom:60%;\"><span style=\"color:#565656\">Make this Notebook Trusted to load map: File -> Trust Notebook</span><iframe srcdoc=\"&lt;!DOCTYPE html&gt;\n",
       "&lt;html&gt;\n",
       "&lt;head&gt;\n",
       "    \n",
       "    &lt;meta http-equiv=&quot;content-type&quot; content=&quot;text/html; charset=UTF-8&quot; /&gt;\n",
       "    \n",
       "        &lt;script&gt;\n",
       "            L_NO_TOUCH = false;\n",
       "            L_DISABLE_3D = false;\n",
       "        &lt;/script&gt;\n",
       "    \n",
       "    &lt;style&gt;html, body {width: 100%;height: 100%;margin: 0;padding: 0;}&lt;/style&gt;\n",
       "    &lt;style&gt;#map {position:absolute;top:0;bottom:0;right:0;left:0;}&lt;/style&gt;\n",
       "    &lt;script src=&quot;https://cdn.jsdelivr.net/npm/leaflet@1.9.3/dist/leaflet.js&quot;&gt;&lt;/script&gt;\n",
       "    &lt;script src=&quot;https://code.jquery.com/jquery-1.12.4.min.js&quot;&gt;&lt;/script&gt;\n",
       "    &lt;script src=&quot;https://cdn.jsdelivr.net/npm/bootstrap@5.2.2/dist/js/bootstrap.bundle.min.js&quot;&gt;&lt;/script&gt;\n",
       "    &lt;script src=&quot;https://cdnjs.cloudflare.com/ajax/libs/Leaflet.awesome-markers/2.0.2/leaflet.awesome-markers.js&quot;&gt;&lt;/script&gt;\n",
       "    &lt;link rel=&quot;stylesheet&quot; href=&quot;https://cdn.jsdelivr.net/npm/leaflet@1.9.3/dist/leaflet.css&quot;/&gt;\n",
       "    &lt;link rel=&quot;stylesheet&quot; href=&quot;https://cdn.jsdelivr.net/npm/bootstrap@5.2.2/dist/css/bootstrap.min.css&quot;/&gt;\n",
       "    &lt;link rel=&quot;stylesheet&quot; href=&quot;https://netdna.bootstrapcdn.com/bootstrap/3.0.0/css/bootstrap.min.css&quot;/&gt;\n",
       "    &lt;link rel=&quot;stylesheet&quot; href=&quot;https://cdn.jsdelivr.net/npm/@fortawesome/fontawesome-free@6.2.0/css/all.min.css&quot;/&gt;\n",
       "    &lt;link rel=&quot;stylesheet&quot; href=&quot;https://cdnjs.cloudflare.com/ajax/libs/Leaflet.awesome-markers/2.0.2/leaflet.awesome-markers.css&quot;/&gt;\n",
       "    &lt;link rel=&quot;stylesheet&quot; href=&quot;https://cdn.jsdelivr.net/gh/python-visualization/folium/folium/templates/leaflet.awesome.rotate.min.css&quot;/&gt;\n",
       "    \n",
       "            &lt;meta name=&quot;viewport&quot; content=&quot;width=device-width,\n",
       "                initial-scale=1.0, maximum-scale=1.0, user-scalable=no&quot; /&gt;\n",
       "            &lt;style&gt;\n",
       "                #map_9b47801a097613de4348f1fda87802ba {\n",
       "                    position: relative;\n",
       "                    width: 100.0%;\n",
       "                    height: 100.0%;\n",
       "                    left: 0.0%;\n",
       "                    top: 0.0%;\n",
       "                }\n",
       "                .leaflet-container { font-size: 1rem; }\n",
       "            &lt;/style&gt;\n",
       "        \n",
       "&lt;/head&gt;\n",
       "&lt;body&gt;\n",
       "    \n",
       "    \n",
       "            &lt;div class=&quot;folium-map&quot; id=&quot;map_9b47801a097613de4348f1fda87802ba&quot; &gt;&lt;/div&gt;\n",
       "        \n",
       "&lt;/body&gt;\n",
       "&lt;script&gt;\n",
       "    \n",
       "    \n",
       "            var map_9b47801a097613de4348f1fda87802ba = L.map(\n",
       "                &quot;map_9b47801a097613de4348f1fda87802ba&quot;,\n",
       "                {\n",
       "                    center: [-19.743899060723013, 32.94503085720633],\n",
       "                    crs: L.CRS.EPSG3857,\n",
       "                    zoom: 1,\n",
       "                    zoomControl: true,\n",
       "                    preferCanvas: false,\n",
       "                }\n",
       "            );\n",
       "\n",
       "            \n",
       "\n",
       "        \n",
       "    \n",
       "            var tile_layer_18b6b81ec30dc481b25f0c1b6089f975 = L.tileLayer(\n",
       "                &quot;https://{s}.tile.openstreetmap.org/{z}/{x}/{y}.png&quot;,\n",
       "                {&quot;attribution&quot;: &quot;Data by \\u0026copy; \\u003ca target=\\&quot;_blank\\&quot; href=\\&quot;http://openstreetmap.org\\&quot;\\u003eOpenStreetMap\\u003c/a\\u003e, under \\u003ca target=\\&quot;_blank\\&quot; href=\\&quot;http://www.openstreetmap.org/copyright\\&quot;\\u003eODbL\\u003c/a\\u003e.&quot;, &quot;detectRetina&quot;: false, &quot;maxNativeZoom&quot;: 18, &quot;maxZoom&quot;: 18, &quot;minZoom&quot;: 0, &quot;noWrap&quot;: false, &quot;opacity&quot;: 1, &quot;subdomains&quot;: &quot;abc&quot;, &quot;tms&quot;: false}\n",
       "            ).addTo(map_9b47801a097613de4348f1fda87802ba);\n",
       "        \n",
       "    \n",
       "            var poly_line_8b7609637267feec1359b1316474fa09 = L.polyline(\n",
       "                [[-19.750697, 32.9459274], [-19.7496014, 32.9456618], [-19.7483266, 32.9453748], [-19.7481325, 32.9453568], [-19.7479908, 32.9453588], [-19.7467387, 32.9453614], [-19.7465089, 32.9453507], [-19.7461533, 32.9453299], [-19.7443581, 32.9450262], [-19.7441921, 32.9450183], [-19.7440324, 32.945002], [-19.7431261, 32.9449859], [-19.742748, 32.9449344], [-19.7424647, 32.9448813], [-19.7417527, 32.9446882], [-19.7415331, 32.9446399], [-19.7413416, 32.9446165], [-19.739741, 32.9446004], [-19.7372812, 32.9444651]],\n",
       "                {&quot;bubblingMouseEvents&quot;: true, &quot;color&quot;: &quot;#3388ff&quot;, &quot;dashArray&quot;: null, &quot;dashOffset&quot;: null, &quot;fill&quot;: false, &quot;fillColor&quot;: &quot;#3388ff&quot;, &quot;fillOpacity&quot;: 0.2, &quot;fillRule&quot;: &quot;evenodd&quot;, &quot;lineCap&quot;: &quot;round&quot;, &quot;lineJoin&quot;: &quot;round&quot;, &quot;noClip&quot;: false, &quot;opacity&quot;: 1.0, &quot;smoothFactor&quot;: 1.0, &quot;stroke&quot;: true, &quot;weight&quot;: 3}\n",
       "            ).addTo(map_9b47801a097613de4348f1fda87802ba);\n",
       "        \n",
       "    \n",
       "            var poly_line_c0ec78af0b015a4bce4dd50f5c6e7016 = L.polyline(\n",
       "                [[-19.7372812, 32.9444651], [-19.7370563, 32.9444499]],\n",
       "                {&quot;bubblingMouseEvents&quot;: true, &quot;color&quot;: &quot;#3388ff&quot;, &quot;dashArray&quot;: null, &quot;dashOffset&quot;: null, &quot;fill&quot;: false, &quot;fillColor&quot;: &quot;#3388ff&quot;, &quot;fillOpacity&quot;: 0.2, &quot;fillRule&quot;: &quot;evenodd&quot;, &quot;lineCap&quot;: &quot;round&quot;, &quot;lineJoin&quot;: &quot;round&quot;, &quot;noClip&quot;: false, &quot;opacity&quot;: 1.0, &quot;smoothFactor&quot;: 1.0, &quot;stroke&quot;: true, &quot;weight&quot;: 3}\n",
       "            ).addTo(map_9b47801a097613de4348f1fda87802ba);\n",
       "        \n",
       "    \n",
       "            map_9b47801a097613de4348f1fda87802ba.fitBounds(\n",
       "                [[-19.750697, 32.9444499], [-19.7370563, 32.9459274]],\n",
       "                {}\n",
       "            );\n",
       "        \n",
       "&lt;/script&gt;\n",
       "&lt;/html&gt;\" style=\"position:absolute;width:100%;height:100%;left:0;top:0;border:none !important;\" allowfullscreen webkitallowfullscreen mozallowfullscreen></iframe></div></div>"
      ],
      "text/plain": [
       "<folium.folium.Map at 0x1b6dea62bc0>"
      ]
     },
     "execution_count": 7,
     "metadata": {},
     "output_type": "execute_result"
    }
   ],
   "source": [
    "shortest_route_map = ox.plot_route_folium(graph, shortest_route, tiles='openstreetmap')\n",
    "shortest_route_map"
   ]
  },
  {
   "cell_type": "code",
   "execution_count": 8,
   "id": "236e5d99",
   "metadata": {},
   "outputs": [
    {
     "name": "stdout",
     "output_type": "stream",
     "text": [
      "Danger - Flood Detected in your path\n"
     ]
    }
   ],
   "source": [
    "# import tkinter as tk\n",
    "# from tkinter import messagebox\n",
    "\n",
    "# root = tk.Tk()\n",
    "# root.withdraw()  # Hide the main window\n",
    "\n",
    "# # Show an alert box\n",
    "flag=0\n",
    "\n",
    "\n",
    "for i in route_coordinates:\n",
    "    if (i[0]>min_lat and i[0]<max_lat) and (i[1]>min_long and i[1]<max_long):\n",
    "#         messagebox.showinfo(\"Alert\", \"Danger - Flood Detected in your path\")\n",
    "        print(\"Danger - Flood Detected in your path\")\n",
    "        flag=1\n",
    "        break\n",
    "if flag==0:\n",
    "    print(\"You are safe - NO flood detected in your path\")\n",
    "#     messagebox.showinfo(\"Alert\", \"You are safe - NO flood detected in your path\")\n",
    "# root.mainloop()"
   ]
  },
  {
   "cell_type": "code",
   "execution_count": 9,
   "id": "9166ff7c",
   "metadata": {},
   "outputs": [],
   "source": [
    "import osmnx as ox\n",
    "import networkx as nx\n",
    "ox.settings.log_console=True\n",
    "ox.settings.use_cache=True\n",
    "# define the start and end locations in latlng\n",
    "start_latlng = (19.214899,72.870156)\n",
    "end_latlng = (19.210377,72.870934)\n",
    "# location where you want to find your route\n",
    "place     = 'Mumbai, Maharashtra, India'\n",
    "# find shortest route based on the mode of travel\n",
    "mode      = 'walk'        # 'drive', 'bike', 'walk'\n",
    "# find shortest path based on distance or time\n",
    "optimizer = 'time'        # 'length','time'\n",
    "# create graph from OSM within the boundaries of some \n",
    "# geocodable place(s)\n",
    "graph = ox.graph_from_place(place, network_type = mode)\n",
    "# find the nearest node to the start location\n",
    "orig_node = ox.distance.nearest_nodes(graph, start_latlng[1],start_latlng[0])\n",
    "# find the nearest node to the end location\n",
    "dest_node = ox.distance.nearest_nodes(graph, end_latlng[1],end_latlng[0])\n",
    "#  find the shortest path\n",
    "shortest_route = nx.shortest_path(graph,orig_node,dest_node,weight=optimizer)"
   ]
  },
  {
   "cell_type": "code",
   "execution_count": 10,
   "id": "04d40397",
   "metadata": {},
   "outputs": [
    {
     "data": {
      "text/plain": [
       "[9697896123, 3792771224, 9697895007, 9717246525, 10216520722, 1180784797]"
      ]
     },
     "execution_count": 10,
     "metadata": {},
     "output_type": "execute_result"
    }
   ],
   "source": [
    "shortest_route"
   ]
  },
  {
   "cell_type": "code",
   "execution_count": 11,
   "id": "69ac661f",
   "metadata": {},
   "outputs": [
    {
     "name": "stdout",
     "output_type": "stream",
     "text": [
      "-19.780032 32.944248 -19.733755 32.993128\n"
     ]
    }
   ],
   "source": [
    "import json\n",
    "path = 'C:\\\\Users\\\\Dev Mehta\\\\OneDrive\\\\Desktop\\\\Dev\\\\FloodDetection\\\\Label\\\\s2_0212_2019_03_25.geojson'\n",
    "with open(path, 'r') as geojson_file:\n",
    "    geojson_data = json.load(geojson_file)\n",
    "\n",
    "cordinates=geojson_data['geometry']['coordinates']\n",
    "min_lat,min_long,max_lat,max_long=91,181,-91,-181\n",
    "for i in cordinates[0]:\n",
    "    min_lat=min(min_lat,i[1])\n",
    "    min_long=min(min_long,i[0])\n",
    "    max_lat=max(max_lat,i[1])\n",
    "    max_long=max(max_long,i[0])\n",
    "    \n",
    "print(min_lat,min_long,max_lat,max_long)"
   ]
  },
  {
   "cell_type": "code",
   "execution_count": 12,
   "id": "ea7acfdb",
   "metadata": {},
   "outputs": [
    {
     "name": "stdout",
     "output_type": "stream",
     "text": [
      "[(19.2146708, 72.8702962), (19.2145705, 72.8703165), (19.2143693, 72.8686495), (19.2103769, 72.8692424), (19.2103693, 72.8699593), (19.2103597, 72.8708731)]\n"
     ]
    }
   ],
   "source": [
    "nodes, edges = ox.graph_to_gdfs(graph)\n",
    "\n",
    "# Extract coordinates of nodes in the shortest route\n",
    "route_nodes = nodes.loc[shortest_route]\n",
    "\n",
    "# Extract latitude and longitude from the route nodes\n",
    "route_coordinates = list(zip(route_nodes['y'], route_nodes['x']))\n",
    "\n",
    "print(route_coordinates)"
   ]
  },
  {
   "cell_type": "code",
   "execution_count": 13,
   "id": "20ec90ee",
   "metadata": {},
   "outputs": [
    {
     "name": "stderr",
     "output_type": "stream",
     "text": [
      "C:\\Users\\Dev Mehta\\AppData\\Local\\Temp\\ipykernel_14240\\1316014204.py:1: UserWarning: The `folium` module has been deprecated and will be removed in a future release. You can generate and explore interactive web maps of graph nodes, edges, and/or routes automatically using GeoPandas.GeoDataFrame.explore instead, for example like: `ox.graph_to_gdfs(G, nodes=False).explore()`. See the OSMnx examples gallery for complete details and demonstrations.\n",
      "  shortest_route_map = ox.plot_route_folium(graph, shortest_route)\n"
     ]
    },
    {
     "data": {
      "text/html": [
       "<div style=\"width:100%;\"><div style=\"position:relative;width:100%;height:0;padding-bottom:60%;\"><span style=\"color:#565656\">Make this Notebook Trusted to load map: File -> Trust Notebook</span><iframe srcdoc=\"&lt;!DOCTYPE html&gt;\n",
       "&lt;html&gt;\n",
       "&lt;head&gt;\n",
       "    \n",
       "    &lt;meta http-equiv=&quot;content-type&quot; content=&quot;text/html; charset=UTF-8&quot; /&gt;\n",
       "    \n",
       "        &lt;script&gt;\n",
       "            L_NO_TOUCH = false;\n",
       "            L_DISABLE_3D = false;\n",
       "        &lt;/script&gt;\n",
       "    \n",
       "    &lt;style&gt;html, body {width: 100%;height: 100%;margin: 0;padding: 0;}&lt;/style&gt;\n",
       "    &lt;style&gt;#map {position:absolute;top:0;bottom:0;right:0;left:0;}&lt;/style&gt;\n",
       "    &lt;script src=&quot;https://cdn.jsdelivr.net/npm/leaflet@1.9.3/dist/leaflet.js&quot;&gt;&lt;/script&gt;\n",
       "    &lt;script src=&quot;https://code.jquery.com/jquery-1.12.4.min.js&quot;&gt;&lt;/script&gt;\n",
       "    &lt;script src=&quot;https://cdn.jsdelivr.net/npm/bootstrap@5.2.2/dist/js/bootstrap.bundle.min.js&quot;&gt;&lt;/script&gt;\n",
       "    &lt;script src=&quot;https://cdnjs.cloudflare.com/ajax/libs/Leaflet.awesome-markers/2.0.2/leaflet.awesome-markers.js&quot;&gt;&lt;/script&gt;\n",
       "    &lt;link rel=&quot;stylesheet&quot; href=&quot;https://cdn.jsdelivr.net/npm/leaflet@1.9.3/dist/leaflet.css&quot;/&gt;\n",
       "    &lt;link rel=&quot;stylesheet&quot; href=&quot;https://cdn.jsdelivr.net/npm/bootstrap@5.2.2/dist/css/bootstrap.min.css&quot;/&gt;\n",
       "    &lt;link rel=&quot;stylesheet&quot; href=&quot;https://netdna.bootstrapcdn.com/bootstrap/3.0.0/css/bootstrap.min.css&quot;/&gt;\n",
       "    &lt;link rel=&quot;stylesheet&quot; href=&quot;https://cdn.jsdelivr.net/npm/@fortawesome/fontawesome-free@6.2.0/css/all.min.css&quot;/&gt;\n",
       "    &lt;link rel=&quot;stylesheet&quot; href=&quot;https://cdnjs.cloudflare.com/ajax/libs/Leaflet.awesome-markers/2.0.2/leaflet.awesome-markers.css&quot;/&gt;\n",
       "    &lt;link rel=&quot;stylesheet&quot; href=&quot;https://cdn.jsdelivr.net/gh/python-visualization/folium/folium/templates/leaflet.awesome.rotate.min.css&quot;/&gt;\n",
       "    \n",
       "            &lt;meta name=&quot;viewport&quot; content=&quot;width=device-width,\n",
       "                initial-scale=1.0, maximum-scale=1.0, user-scalable=no&quot; /&gt;\n",
       "            &lt;style&gt;\n",
       "                #map_2b527fb31ddb4a933cdfd89b94e53f96 {\n",
       "                    position: relative;\n",
       "                    width: 100.0%;\n",
       "                    height: 100.0%;\n",
       "                    left: 0.0%;\n",
       "                    top: 0.0%;\n",
       "                }\n",
       "                .leaflet-container { font-size: 1rem; }\n",
       "            &lt;/style&gt;\n",
       "        \n",
       "&lt;/head&gt;\n",
       "&lt;body&gt;\n",
       "    \n",
       "    \n",
       "            &lt;div class=&quot;folium-map&quot; id=&quot;map_2b527fb31ddb4a933cdfd89b94e53f96&quot; &gt;&lt;/div&gt;\n",
       "        \n",
       "&lt;/body&gt;\n",
       "&lt;script&gt;\n",
       "    \n",
       "    \n",
       "            var map_2b527fb31ddb4a933cdfd89b94e53f96 = L.map(\n",
       "                &quot;map_2b527fb31ddb4a933cdfd89b94e53f96&quot;,\n",
       "                {\n",
       "                    center: [19.212488848825764, 72.86946336847781],\n",
       "                    crs: L.CRS.EPSG3857,\n",
       "                    zoom: 1,\n",
       "                    zoomControl: true,\n",
       "                    preferCanvas: false,\n",
       "                }\n",
       "            );\n",
       "\n",
       "            \n",
       "\n",
       "        \n",
       "    \n",
       "            var tile_layer_e734ef0af05f9e9e253a65bbc2b6e753 = L.tileLayer(\n",
       "                &quot;https://cartodb-basemaps-{s}.global.ssl.fastly.net/light_all/{z}/{x}/{y}.png&quot;,\n",
       "                {&quot;attribution&quot;: &quot;\\u0026copy; \\u003ca target=\\&quot;_blank\\&quot; href=\\&quot;http://www.openstreetmap.org/copyright\\&quot;\\u003eOpenStreetMap\\u003c/a\\u003e contributors \\u0026copy; \\u003ca target=\\&quot;_blank\\&quot; href=\\&quot;http://cartodb.com/attributions\\&quot;\\u003eCartoDB\\u003c/a\\u003e, CartoDB \\u003ca target=\\&quot;_blank\\&quot; href =\\&quot;http://cartodb.com/attributions\\&quot;\\u003eattributions\\u003c/a\\u003e&quot;, &quot;detectRetina&quot;: false, &quot;maxNativeZoom&quot;: 18, &quot;maxZoom&quot;: 18, &quot;minZoom&quot;: 0, &quot;noWrap&quot;: false, &quot;opacity&quot;: 1, &quot;subdomains&quot;: &quot;abc&quot;, &quot;tms&quot;: false}\n",
       "            ).addTo(map_2b527fb31ddb4a933cdfd89b94e53f96);\n",
       "        \n",
       "    \n",
       "            var poly_line_f52565f2af34a9bd3a60316dddb3c73c = L.polyline(\n",
       "                [[19.2146708, 72.8702962], [19.2145705, 72.8703165]],\n",
       "                {&quot;bubblingMouseEvents&quot;: true, &quot;color&quot;: &quot;#3388ff&quot;, &quot;dashArray&quot;: null, &quot;dashOffset&quot;: null, &quot;fill&quot;: false, &quot;fillColor&quot;: &quot;#3388ff&quot;, &quot;fillOpacity&quot;: 0.2, &quot;fillRule&quot;: &quot;evenodd&quot;, &quot;lineCap&quot;: &quot;round&quot;, &quot;lineJoin&quot;: &quot;round&quot;, &quot;noClip&quot;: false, &quot;opacity&quot;: 1.0, &quot;smoothFactor&quot;: 1.0, &quot;stroke&quot;: true, &quot;weight&quot;: 3}\n",
       "            ).addTo(map_2b527fb31ddb4a933cdfd89b94e53f96);\n",
       "        \n",
       "    \n",
       "            var poly_line_c12336f27609340bdc555923b6a64c28 = L.polyline(\n",
       "                [[19.2145705, 72.8703165], [19.2145219, 72.8693046], [19.2143693, 72.8686495]],\n",
       "                {&quot;bubblingMouseEvents&quot;: true, &quot;color&quot;: &quot;#3388ff&quot;, &quot;dashArray&quot;: null, &quot;dashOffset&quot;: null, &quot;fill&quot;: false, &quot;fillColor&quot;: &quot;#3388ff&quot;, &quot;fillOpacity&quot;: 0.2, &quot;fillRule&quot;: &quot;evenodd&quot;, &quot;lineCap&quot;: &quot;round&quot;, &quot;lineJoin&quot;: &quot;round&quot;, &quot;noClip&quot;: false, &quot;opacity&quot;: 1.0, &quot;smoothFactor&quot;: 1.0, &quot;stroke&quot;: true, &quot;weight&quot;: 3}\n",
       "            ).addTo(map_2b527fb31ddb4a933cdfd89b94e53f96);\n",
       "        \n",
       "    \n",
       "            var poly_line_6a6574a78187e74459a18496a9011a09 = L.polyline(\n",
       "                [[19.2143693, 72.8686495], [19.2142157, 72.8687757], [19.2133393, 72.8693497], [19.2131772, 72.8693336], [19.2103769, 72.8692424]],\n",
       "                {&quot;bubblingMouseEvents&quot;: true, &quot;color&quot;: &quot;#3388ff&quot;, &quot;dashArray&quot;: null, &quot;dashOffset&quot;: null, &quot;fill&quot;: false, &quot;fillColor&quot;: &quot;#3388ff&quot;, &quot;fillOpacity&quot;: 0.2, &quot;fillRule&quot;: &quot;evenodd&quot;, &quot;lineCap&quot;: &quot;round&quot;, &quot;lineJoin&quot;: &quot;round&quot;, &quot;noClip&quot;: false, &quot;opacity&quot;: 1.0, &quot;smoothFactor&quot;: 1.0, &quot;stroke&quot;: true, &quot;weight&quot;: 3}\n",
       "            ).addTo(map_2b527fb31ddb4a933cdfd89b94e53f96);\n",
       "        \n",
       "    \n",
       "            var poly_line_b45c1c2b71c8a6fd9c489d0ec2974a16 = L.polyline(\n",
       "                [[19.2103769, 72.8692424], [19.2103693, 72.8699593]],\n",
       "                {&quot;bubblingMouseEvents&quot;: true, &quot;color&quot;: &quot;#3388ff&quot;, &quot;dashArray&quot;: null, &quot;dashOffset&quot;: null, &quot;fill&quot;: false, &quot;fillColor&quot;: &quot;#3388ff&quot;, &quot;fillOpacity&quot;: 0.2, &quot;fillRule&quot;: &quot;evenodd&quot;, &quot;lineCap&quot;: &quot;round&quot;, &quot;lineJoin&quot;: &quot;round&quot;, &quot;noClip&quot;: false, &quot;opacity&quot;: 1.0, &quot;smoothFactor&quot;: 1.0, &quot;stroke&quot;: true, &quot;weight&quot;: 3}\n",
       "            ).addTo(map_2b527fb31ddb4a933cdfd89b94e53f96);\n",
       "        \n",
       "    \n",
       "            var poly_line_d5efd1eb0791a93a635cd2f8ac7cfb33 = L.polyline(\n",
       "                [[19.2103693, 72.8699593], [19.2103597, 72.8708731]],\n",
       "                {&quot;bubblingMouseEvents&quot;: true, &quot;color&quot;: &quot;#3388ff&quot;, &quot;dashArray&quot;: null, &quot;dashOffset&quot;: null, &quot;fill&quot;: false, &quot;fillColor&quot;: &quot;#3388ff&quot;, &quot;fillOpacity&quot;: 0.2, &quot;fillRule&quot;: &quot;evenodd&quot;, &quot;lineCap&quot;: &quot;round&quot;, &quot;lineJoin&quot;: &quot;round&quot;, &quot;noClip&quot;: false, &quot;opacity&quot;: 1.0, &quot;smoothFactor&quot;: 1.0, &quot;stroke&quot;: true, &quot;weight&quot;: 3}\n",
       "            ).addTo(map_2b527fb31ddb4a933cdfd89b94e53f96);\n",
       "        \n",
       "    \n",
       "            map_2b527fb31ddb4a933cdfd89b94e53f96.fitBounds(\n",
       "                [[19.2103597, 72.8686495], [19.2146708, 72.8708731]],\n",
       "                {}\n",
       "            );\n",
       "        \n",
       "&lt;/script&gt;\n",
       "&lt;/html&gt;\" style=\"position:absolute;width:100%;height:100%;left:0;top:0;border:none !important;\" allowfullscreen webkitallowfullscreen mozallowfullscreen></iframe></div></div>"
      ],
      "text/plain": [
       "<folium.folium.Map at 0x1b6d49b63e0>"
      ]
     },
     "execution_count": 13,
     "metadata": {},
     "output_type": "execute_result"
    }
   ],
   "source": [
    "shortest_route_map = ox.plot_route_folium(graph, shortest_route)\n",
    "shortest_route_map"
   ]
  },
  {
   "cell_type": "code",
   "execution_count": null,
   "id": "2ff7200c",
   "metadata": {},
   "outputs": [],
   "source": []
  }
 ],
 "metadata": {
  "kernelspec": {
   "display_name": "Python 3 (ipykernel)",
   "language": "python",
   "name": "python3"
  },
  "language_info": {
   "codemirror_mode": {
    "name": "ipython",
    "version": 3
   },
   "file_extension": ".py",
   "mimetype": "text/x-python",
   "name": "python",
   "nbconvert_exporter": "python",
   "pygments_lexer": "ipython3",
   "version": "3.10.9"
  }
 },
 "nbformat": 4,
 "nbformat_minor": 5
}
